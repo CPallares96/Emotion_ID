{
  "nbformat": 4,
  "nbformat_minor": 0,
  "metadata": {
    "colab": {
      "name": "Parcial 3 - IA.ipynb",
      "provenance": [],
      "collapsed_sections": [
        "YIuWlEnS4aiH",
        "SmwcJA5gcWSr",
        "LDwbA7VmbIpx"
      ],
      "toc_visible": true,
      "mount_file_id": "1_JIkqIPqgLaGeKcIrMlXvcGsdKQ97KtE",
      "authorship_tag": "ABX9TyPepeAro7/oaS+l6T/40M9k",
      "include_colab_link": true
    },
    "kernelspec": {
      "name": "python3",
      "display_name": "Python 3"
    },
    "language_info": {
      "name": "python"
    }
  },
  "cells": [
    {
      "cell_type": "markdown",
      "metadata": {
        "id": "view-in-github",
        "colab_type": "text"
      },
      "source": [
        "<a href=\"https://colab.research.google.com/github/CPallares96/Emotion_ID/blob/main/Parcial_3_IA.ipynb\" target=\"_parent\"><img src=\"https://colab.research.google.com/assets/colab-badge.svg\" alt=\"Open In Colab\"/></a>"
      ]
    },
    {
      "cell_type": "markdown",
      "metadata": {
        "id": "jZYjFRSOegR8"
      },
      "source": [
        "#Detección de emociones primera entrega\n",
        "#Integrantes: Acuña Roberto, Lagares Juan y Pallares Carlos"
      ]
    },
    {
      "cell_type": "code",
      "metadata": {
        "id": "-rLMBMZNuDiK"
      },
      "source": [
        "import cv2\n",
        "from sklearn.manifold import MDS\n",
        "import matplotlib.pyplot as plt\n",
        "import numpy as np\n",
        "import pandas as pd\n",
        "from sklearn.neighbors import KNeighborsClassifier\n",
        "from sklearn.model_selection import train_test_split\n",
        "from sklearn.metrics import classification_report, confusion_matrix\n",
        "import os\n",
        "from os import listdir\n",
        "from os.path import isfile, join\n",
        "import seaborn as sns\n",
        "from mpl_toolkits import mplot3d\n",
        "from sklearn.cluster import KMeans\n",
        "from sklearn.decomposition import PCA\n",
        "from sklearn import preprocessing\n",
        "%matplotlib inline "
      ],
      "execution_count": 2,
      "outputs": []
    },
    {
      "cell_type": "markdown",
      "metadata": {
        "id": "iHIVg8stdsIR"
      },
      "source": [
        "#Imagen de ejemplo de las cuadriculas con la que trabajamos y luego recortamos en sub-cuadriculas de 50x50 pixéles"
      ]
    },
    {
      "cell_type": "code",
      "metadata": {
        "colab": {
          "base_uri": "https://localhost:8080/",
          "height": 287
        },
        "id": "E5Chmt6tFpJA",
        "outputId": "8c6c6b2f-0afb-44a6-ab97-7a7860b2e9ed"
      },
      "source": [
        "str_dir=\"/content/drive/MyDrive/Emotion/anger/S074_004_00000010.png\"\n",
        "img = cv2.imread(str_dir)\n",
        "img = img[130:380, 200:400]\n",
        "grayImage = cv2.cvtColor(img, cv2.COLOR_BGR2GRAY)\n",
        "(thresh, im) = cv2.threshold(grayImage, 127, 255, cv2.THRESH_BINARY)\n",
        "plt.imshow(im)"
      ],
      "execution_count": 3,
      "outputs": [
        {
          "output_type": "execute_result",
          "data": {
            "text/plain": [
              "<matplotlib.image.AxesImage at 0x7f4f6b9b7e50>"
            ]
          },
          "metadata": {
            "tags": []
          },
          "execution_count": 3
        },
        {
          "output_type": "display_data",
          "data": {
            "image/png": "[encoded data removed]",
            "text/plain": [
              "<Figure size 432x288 with 1 Axes>"
            ]
          },
          "metadata": {
            "tags": [],
            "needs_background": "light"
          }
        }
      ]
    },
    {
      "cell_type": "markdown",
      "metadata": {
        "id": "lTuqcFNInRpT"
      },
      "source": [
        "#image_set devuelve un dataframe por cada segmento y luego es pegado a un dataframe final en salida_df. En imagen_set si un pixél es negro, se le asigna el valor de 0 sino, el valor de 1. Este bloque de código solo es usado para gráficar una vez en un plano 3D la distribución de los pixéles negros en todas las caras por emoción "
      ]
    },
    {
      "cell_type": "code",
      "metadata": {
        "id": "mC-PWqP4l6nl"
      },
      "source": [
        "def image_set(im,num):\n",
        "\n",
        "  df_=pd.DataFrame()\n",
        "  lista=[]\n",
        "  listaX=[]\n",
        "  listaY=[] \n",
        "\n",
        "  for y in range(0,250): #Y axis\n",
        "    for x in range(0,200): #X axis\n",
        "      if im[y][x] == 255: #[0]==0 and im[y][x][1]==0 and im[y][x][2]==0:\n",
        "        lista.append(0)\n",
        "      else:\n",
        "        lista.append(1)\n",
        "\n",
        "      listaY.append(y)\n",
        "      listaX.append(x)\n",
        "\n",
        "  df_[\"x\"]=np.array(listaX)\n",
        "  df_[\"y\"]=np.array(listaY)\n",
        "  df_[\"type\"]=np.array(lista)\n",
        "  df_[\"emo\"]=np.full(len(df_[\"x\"]),num)\n",
        "  return df_\n",
        "\n",
        "def salida_df(dir,arr,num):\n",
        "\n",
        "  df=pd.DataFrame()\n",
        "  \n",
        "  for i in arr:\n",
        "\n",
        "    str_dir=\"{}/{}\".format(dir,i)\n",
        "    img = cv2.imread(str_dir)\n",
        "\n",
        "    #kernel = np.array([[0,1,0], [1,-2,1], [0,1,0]])\n",
        "    #im = cv2.filter2D(img, -1, kernel)\n",
        "    #laplacian = cv2.Laplacian(im,cv2.CV_64F)\n",
        "\n",
        "    grayImage = cv2.cvtColor(img, cv2.COLOR_BGR2GRAY)\n",
        "    (thresh, im) = cv2.threshold(grayImage, 127, 255, cv2.THRESH_BINARY)\n",
        "    \n",
        "    im = im[130:380, 200:400]\n",
        "    df_= image_set(im,num)\n",
        "    df=df.append(df_,ignore_index = True)\n",
        "\n",
        "  return df"
      ],
      "execution_count": 4,
      "outputs": []
    },
    {
      "cell_type": "markdown",
      "metadata": {
        "id": "FBD4Nv8oRWmF"
      },
      "source": [
        "#Se \"pegan\" los tres dataframe correspondientes a cada tipo de imángen (emoción) para un dataframe final que será gráficado mas adelante."
      ]
    },
    {
      "cell_type": "code",
      "metadata": {
        "id": "9RAlbwhyjyTL"
      },
      "source": [
        "def df_stick(df_1,df_2,df_3):\n",
        "  df_1=df_1.append(df_2,ignore_index = True)\n",
        "  df_1=df_1.append(df_3,ignore_index = True)\n",
        "  return df_1"
      ],
      "execution_count": 5,
      "outputs": []
    },
    {
      "cell_type": "markdown",
      "metadata": {
        "id": "PtRfD7KdOJis"
      },
      "source": [
        "#Gráfica en 3D de los datos, siendo X el número de pixeles negros, Y el segmento correspondiente y Z la categoría a la que pertenece (1:= Felicidad, 2:=Furia, 3:=Sorpresa)"
      ]
    },
    {
      "cell_type": "code",
      "metadata": {
        "id": "qHMPaD44bXGd"
      },
      "source": [
        "def df_3Dplot(df):\n",
        "  x=np.array(df[df.columns[0:1]])\n",
        "  y=np.array(df[df.columns[1:2]])\n",
        "  z=np.array(df[df.columns[2:3]])\n",
        "\n",
        "  fig = plt.figure(figsize = (10, 7))\n",
        "  ax = plt.axes(projection =\"3d\")\n",
        "  \n",
        "  ax.scatter3D(x, y, z, color = df[\"emo\"])\n",
        "  plt.title(\"Emoción\")\n",
        "\n",
        "  plt.show()\n",
        "  ax.view_init(-45,30)\n",
        "  fig"
      ],
      "execution_count": 6,
      "outputs": []
    },
    {
      "cell_type": "markdown",
      "metadata": {
        "id": "A3ZE4VOfOitT"
      },
      "source": [
        "#Se aisla solo la nariz, boca y ojos en una cuadricula a partir de la imagen inicial con dimensiones de 250x200 pixéles y se le aplica un filtro monocromatico. Esta funcion devuelve una lista de 20 segmentos por imagen donde cada segmento es de 50x50 pixéles"
      ]
    },
    {
      "cell_type": "code",
      "metadata": {
        "id": "ciT3CtIxzW5B"
      },
      "source": [
        "def segmentacion_cara(img):\n",
        "\n",
        "  img = img[130:380, 200:400]\n",
        "  #img = img[130:380, 230:380]\n",
        "\n",
        "  lista=[]\n",
        "  alto,ancho,profundidad=img.shape\n",
        "  cuadro_alto=50\n",
        "  cuadro_ancho=50\n",
        "  y=0\n",
        "  x=0\n",
        "  cont=0\n",
        "  for j in range(0,np.divmod(alto,cuadro_alto)[0]):\n",
        "    y_=(j+1)*cuadro_alto\n",
        "    for i in range(0,np.divmod(ancho,cuadro_ancho)[0]):\n",
        "      x_=(i+1)*cuadro_ancho \n",
        "      cont=cont+1\n",
        "      crop_img = img[y:y_, x:x_]\n",
        "\n",
        "      grayImage = cv2.cvtColor(crop_img, cv2.COLOR_BGR2GRAY)\n",
        "      (thresh, im) = cv2.threshold(grayImage, 127, 255, cv2.THRESH_BINARY)\n",
        "\n",
        "      lista.append(im)\n",
        "      #plt.imshow(im)\n",
        "      x=x_\n",
        "    x=0\n",
        "    y=y_\n",
        "  return lista"
      ],
      "execution_count": 7,
      "outputs": []
    },
    {
      "cell_type": "markdown",
      "metadata": {
        "id": "J_AsO_NZPZ6s"
      },
      "source": [
        "#Se realiza una lectura de todas imagenes por emoción y se devuelve una lista con todos los segmentos de todas las imagenes correspondientes por emoción"
      ]
    },
    {
      "cell_type": "code",
      "metadata": {
        "id": "Ixg4tS0Jz6tp"
      },
      "source": [
        "def lista_segmentos(str_dir,arr):  \n",
        "  lista=[]\n",
        "  for i in (arr):\n",
        "    dir=str_dir+\"/\"+i\n",
        "    img = cv2.imread(dir)\n",
        "    l=segmentacion_cara(img)\n",
        "    lista.extend(l)\n",
        "  return lista"
      ],
      "execution_count": 8,
      "outputs": []
    },
    {
      "cell_type": "markdown",
      "metadata": {
        "id": "H0OoZT6gPmRL"
      },
      "source": [
        "#Se realiza el conteo de los pixéles negro por segmento de cada imagen para todas las imagenes de una emoción, el valor de parametro \"lista\" es obtenido de la función anterior \"lista_segmentos\" y se devuelve un dataframe con tres columnas: X el número de pixeles negros, Y el segmento correspondiente, Z la categoría a la que pertenece (1:= Felicidad, 2:=Furia, 3:=Sorpresa) y emo el color asignado a la emoción, verde:=Felicidad, rojo:=Furia, azul:= Sorpresa"
      ]
    },
    {
      "cell_type": "code",
      "metadata": {
        "id": "a7EQ-7yNSlLm"
      },
      "source": [
        "def n_black_per_segment(lista,string,num):\n",
        "  df=pd.DataFrame()\n",
        "  cont=0\n",
        "  n_segmento=[]\n",
        "  num_black=[]\n",
        "  emo=[]\n",
        "  num_z=[]\n",
        "  for i in range(0,len(lista)):\n",
        "    cont=cont+1\n",
        "    n_segmento.append(cont)\n",
        "    emo.append(string)\n",
        "    num_z.append(num)\n",
        "    num_black.append(np.count_nonzero(lista[i] == 255))\n",
        "    if  20-cont == 0: #15-cont cuando img = img[130:380, 230:380] en segmentacion_cara\n",
        "      cont=0\n",
        "  df[\"x\"]=num_black\n",
        "  df[\"y\"]=n_segmento\n",
        "  df[\"z\"]=num_z\n",
        "  df[\"emo\"]=emo\n",
        "  return df"
      ],
      "execution_count": 9,
      "outputs": []
    },
    {
      "cell_type": "markdown",
      "metadata": {
        "id": "F6v1rbwyP9RE"
      },
      "source": [
        "#Menú básico para selección de las categorías de imágenes que queremos utilizar para nuestro análisis."
      ]
    },
    {
      "cell_type": "code",
      "metadata": {
        "id": "B13n_U71_b5G"
      },
      "source": [
        "def seleccion_n_datos(categoria,str_dir):\n",
        "  arr=os.listdir(str_dir)\n",
        "  lista=[]\n",
        "  string=\"¿Desea incluir la categoría {} en siguiente analisis? Digitar en miniscula su respuseta (si/no)\".format(categoria)\n",
        "  print(string)\n",
        "  opcion = input()\n",
        "  if opcion == \"no\":\n",
        "    lista.append(arr[0])\n",
        "  else:\n",
        "    lista.extend(arr)\n",
        "  return lista"
      ],
      "execution_count": 10,
      "outputs": []
    },
    {
      "cell_type": "markdown",
      "metadata": {
        "id": "DbUmdvqm-Ow2"
      },
      "source": [
        "#Montando los datos. Los datos son motandos desde mi Drive, por lo cual si se quiere cambiar la dirección de los datos, debe cambiarse la variable str_dir en los tres casos siguientes. No modificar ningún parametro de entrada en la definición de arr para los tres casos (emociones)."
      ]
    },
    {
      "cell_type": "code",
      "metadata": {
        "id": "fzObzq8sadrs",
        "colab": {
          "base_uri": "https://localhost:8080/"
        },
        "outputId": "f4a8518e-a306-427d-cfee-e262ffc6b14d"
      },
      "source": [
        "str_dir=\"/content/drive/MyDrive/Emotion/happiness\"\n",
        "arr = seleccion_n_datos(\"happiness\",str_dir)\n",
        "lista_1=lista_segmentos(str_dir,arr)\n",
        "df_1=salida_df(str_dir,arr,\"green\")\n",
        "\n",
        "str_dir=\"/content/drive/MyDrive/Emotion/anger\"\n",
        "arr = seleccion_n_datos(\"anger\",str_dir)\n",
        "lista_2=lista_segmentos(str_dir,arr)\n",
        "df_2=salida_df(str_dir,arr,\"red\")\n",
        "\n",
        "str_dir=\"/content/drive/MyDrive/Emotion/surprise\"\n",
        "arr = seleccion_n_datos(\"surprise\",str_dir)\n",
        "lista_3=lista_segmentos(str_dir,arr)\n",
        "df_3=salida_df(str_dir,arr,\"blue\")"
      ],
      "execution_count": 11,
      "outputs": [
        {
          "output_type": "stream",
          "text": [
            "¿Desea incluir la categoría happiness en siguiente analisis? Digitar en miniscula su respuseta (si/no)\n",
            "si\n",
            "¿Desea incluir la categoría anger en siguiente analisis? Digitar en miniscula su respuseta (si/no)\n",
            "si\n",
            "¿Desea incluir la categoría surprise en siguiente analisis? Digitar en miniscula su respuseta (si/no)\n",
            "si\n"
          ],
          "name": "stdout"
        }
      ]
    },
    {
      "cell_type": "markdown",
      "metadata": {
        "id": "dXwHzgmZnGoC"
      },
      "source": [
        "#DF DE SEGMENTOS Y NUMERO DE PIXELES NEGROS POR CADA UNO"
      ]
    },
    {
      "cell_type": "code",
      "metadata": {
        "id": "Ylen163Dmy_z"
      },
      "source": [
        "df1=n_black_per_segment(lista_1,\"green\",1)\n",
        "df2=n_black_per_segment(lista_2,\"red\",2)\n",
        "df3=n_black_per_segment(lista_3,\"blue\",3)\n",
        "dF=df_stick(df1,df2,df3)"
      ],
      "execution_count": 12,
      "outputs": []
    },
    {
      "cell_type": "markdown",
      "metadata": {
        "id": "W58HVTCgnOVS"
      },
      "source": [
        "#GRÁFICA DE LAS IMAGENES EN UN ESPACIO 3D"
      ]
    },
    {
      "cell_type": "markdown",
      "metadata": {
        "id": "UCw3n1WTchHS"
      },
      "source": [
        "#Todas las imagenes han sido puestas en esta gráfica. El eje Z indica la categoría, 1 para pixéles negrs y 0 para pixéles blancos (amarillosos en nuestro caso). El color verde es Felicidad, el rojo es Furia y el azul es Sorpresa. Basandonos en los colores vemos existen gaps entre las emociones que son llenados por otras, un ejemplo es el centro de la categoría 1 que muestra como la Furia(rojo) llena un vacio que existe en las imagenes de Sorpresa(azul)"
      ]
    },
    {
      "cell_type": "code",
      "metadata": {
        "id": "FTJMROvboCj7"
      },
      "source": [
        "df_3Dplot(df_stick(df_1,df_2,df_3))"
      ],
      "execution_count": null,
      "outputs": []
    },
    {
      "cell_type": "markdown",
      "metadata": {
        "id": "wplyUnuvdctC"
      },
      "source": [
        "#Gráfica emoción Felicidad"
      ]
    },
    {
      "cell_type": "code",
      "metadata": {
        "id": "gAODz_0ohDV7"
      },
      "source": [
        "df_3Dplot(df_1)"
      ],
      "execution_count": null,
      "outputs": []
    },
    {
      "cell_type": "markdown",
      "metadata": {
        "id": "i12LbbQ7dgEk"
      },
      "source": [
        "#Gráfica emoción Furia"
      ]
    },
    {
      "cell_type": "code",
      "metadata": {
        "id": "L2g_QHg_kjYD"
      },
      "source": [
        "df_3Dplot(df_2)"
      ],
      "execution_count": null,
      "outputs": []
    },
    {
      "cell_type": "markdown",
      "metadata": {
        "id": "nDM15yO1djIx"
      },
      "source": [
        "#Gráfica emoción Sorpresa"
      ]
    },
    {
      "cell_type": "code",
      "metadata": {
        "colab": {
          "base_uri": "https://localhost:8080/",
          "height": 411
        },
        "id": "JTmvTKYhkkos",
        "outputId": "52ec4ae6-297b-4a37-eb17-b2d09c96a529"
      },
      "source": [
        "df_3Dplot(df_3)"
      ],
      "execution_count": null,
      "outputs": [
        {
          "output_type": "display_data",
          "data": {
            "image/png": "[encoded data removed]",
            "text/plain": [
              "<Figure size 720x504 with 1 Axes>"
            ]
          },
          "metadata": {
            "tags": [],
            "needs_background": "light"
          }
        }
      ]
    },
    {
      "cell_type": "markdown",
      "metadata": {
        "id": "c1UBL-KHGhnO"
      },
      "source": [
        "#OMITIR LOS DOS SIGUIENTES BLOQUES DE CÓDIGO Y RETOMAR EN EL CLUSTERING"
      ]
    },
    {
      "cell_type": "markdown",
      "metadata": {
        "id": "YIuWlEnS4aiH"
      },
      "source": [
        "#KMEANS - Clustering. Realizamos agrupación de los datos y vemos si realmente se separan de forma natural"
      ]
    },
    {
      "cell_type": "code",
      "metadata": {
        "id": "M6e429BN4cnG"
      },
      "source": [
        "inertia = []\n",
        "K = range(1,20)\n",
        "for k in K:\n",
        "    kmeanModel = KMeans(n_clusters=k)\n",
        "    kmeanModel.fit(dF[dF.columns[0:3]])\n",
        "    inertia.append(kmeanModel.inertia_)"
      ],
      "execution_count": null,
      "outputs": []
    },
    {
      "cell_type": "code",
      "metadata": {
        "colab": {
          "base_uri": "https://localhost:8080/",
          "height": 513
        },
        "id": "5mvRwcUO4hIW",
        "outputId": "35f0813d-636d-405a-a2c5-2692d31c112e"
      },
      "source": [
        "plt.figure(figsize=(16,8))\n",
        "plt.plot(K, inertia, 'bx-')\n",
        "plt.xlabel('k')\n",
        "plt.ylabel('Inertia')\n",
        "plt.title('The Elbow Method showing the optimal k')\n",
        "plt.show()"
      ],
      "execution_count": null,
      "outputs": [
        {
          "output_type": "display_data",
          "data": {
            "image/png": "[encoded data removed]",
            "text/plain": [
              "<Figure size 1152x576 with 1 Axes>"
            ]
          },
          "metadata": {
            "tags": [],
            "needs_background": "light"
          }
        }
      ]
    },
    {
      "cell_type": "markdown",
      "metadata": {
        "id": "SmwcJA5gcWSr"
      },
      "source": [
        "#Respecto al método del codo tomamos que la mejor cantidad de clusters son 3"
      ]
    },
    {
      "cell_type": "code",
      "metadata": {
        "id": "GcV_rzuGYG3e"
      },
      "source": [
        "kmeanModel = KMeans(n_clusters=3)\n",
        "kmeanModel.fit(dF[dF.columns[0:3]])\n",
        "dF[\"tag\"]=pd.Series(kmeanModel.labels_)"
      ],
      "execution_count": null,
      "outputs": []
    },
    {
      "cell_type": "code",
      "metadata": {
        "id": "HbZ3JPPS-vEG"
      },
      "source": [
        "def df3Dplot(df):\n",
        "  x=np.array(df[df.columns[0:1]])\n",
        "  y=np.array(df[df.columns[1:2]])\n",
        "  z=np.array(df[df.columns[4:5]])\n",
        "\n",
        "  fig = plt.figure(figsize = (10, 7))\n",
        "  ax = plt.axes(projection =\"3d\")\n",
        "  \n",
        "  ax.scatter3D(x, y, z, color = df[\"emo\"])\n",
        "  plt.title(\"Emoción\")\n",
        "\n",
        "  plt.show()\n",
        "  ax.view_init(80,90)\n",
        "  fig"
      ],
      "execution_count": null,
      "outputs": []
    },
    {
      "cell_type": "code",
      "metadata": {
        "id": "Nswc6LhT9pqG"
      },
      "source": [
        "df3Dplot(dF)"
      ],
      "execution_count": null,
      "outputs": []
    },
    {
      "cell_type": "code",
      "metadata": {
        "id": "JEJ05RwfGOr9"
      },
      "source": [
        "sns.scatterplot(data=dF,x=\"x\",y=\"y\",hue=\"z\",palette=\"deep\",alpha=0.60)\n",
        "plt.title(\"Separación sincon KMeans\") #title\n",
        "plt.ylabel(\"Número de la sub-cuadricula\") #x label\n",
        "plt.xlabel(\"Pixéles por sub-cuadricula\") #y label"
      ],
      "execution_count": null,
      "outputs": []
    },
    {
      "cell_type": "markdown",
      "metadata": {
        "id": "LDwbA7VmbIpx"
      },
      "source": [
        "# Visualizamos una separación de los datos cuando K=3 d, donde los datos que se encontraban mezclados anteriormente ahora están separados en clusters diferentes, pero los puntos siguen en su mismas posiciones, esto da a entender que los puntos ahora separados son propios de ciertas emociones y le dan caracteristicas únicas a estas mismas.\n",
        "\n",
        "#Para este caso 0:=Felicidad, 1:=Furia y 2:=Sorpresa"
      ]
    },
    {
      "cell_type": "code",
      "metadata": {
        "id": "_mkACgU8F2-N"
      },
      "source": [
        "sns.scatterplot(data=dF,x=\"x\",y=\"y\",hue=\"tag\")\n",
        "plt.title(\"Separación con KMeans\") #title\n",
        "plt.ylabel(\"Número de la sub-cuadricula\") #x label\n",
        "plt.xlabel(\"Pixéles por sub-cuadricula\") #y label"
      ],
      "execution_count": null,
      "outputs": []
    },
    {
      "cell_type": "markdown",
      "metadata": {
        "id": "ksXKx5mZE0IF"
      },
      "source": [
        "#CLUSTERING"
      ]
    },
    {
      "cell_type": "markdown",
      "metadata": {
        "id": "IQihJ_WCEl1d"
      },
      "source": [
        "#La siguiente función toma cada imagen de cada emociones como y las registra de la siguiente forma en el dataframe:\n",
        "\n",
        "                   index      0         1     ...    20\n",
        "\n",
        "                    0       2156       865           1\n",
        "                    1       701        1597          1\n",
        "                    2       51         616           1\n",
        "                    .        .          .            .\n",
        "                    .        .          .            .\n",
        "                    .        .          .            .\n",
        "                    45      759        767           1\n",
        "                    46      1679       12            1\n",
        "    \n",
        "#La columna del 0 al 19 corresponden a los 20 segmentos de cada y contienen el número de pixéles negros por segmentos correspondiente. La columna 20 se refiere al tipo de imagen o emoción a la que corresponden esos segmentos. "
      ]
    },
    {
      "cell_type": "code",
      "metadata": {
        "id": "fczZYZ8aOS1k"
      },
      "source": [
        "def full_DataF(lista,num):\n",
        "  cont=0\n",
        "  lista_=[]\n",
        "  for i in range(0,len(lista)):\n",
        "    if np.divide(i+1,20).is_integer():\n",
        "      lista_.append(np.count_nonzero(lista[i] == 255))\n",
        "      lista_.append(num)\n",
        "      if cont==0:\n",
        "        cont=1\n",
        "        df=pd.DataFrame([lista_])\n",
        "      else:\n",
        "        a_series=pd.Series(lista_,index=df.columns)\n",
        "        df=df.append(a_series,ignore_index=True)\n",
        "      lista_.clear()\n",
        "    else:\n",
        "      lista_.append(np.count_nonzero(lista[i] == 255))\n",
        "    \n",
        "  return df"
      ],
      "execution_count": 13,
      "outputs": []
    },
    {
      "cell_type": "markdown",
      "metadata": {
        "id": "-AoO0cNUZm4i"
      },
      "source": [
        "#Se unen los dataframe correspondientes a Felicidad, Furia y Sorpresa con la función df_stick anteriormente mencionada."
      ]
    },
    {
      "cell_type": "code",
      "metadata": {
        "id": "YHP470NfVFDW"
      },
      "source": [
        "dF_1=full_DataF(lista_1,1)\n",
        "dF_2=full_DataF(lista_2,2)\n",
        "dF_3=full_DataF(lista_3,3)\n",
        "dF_f=df_stick(dF_1,dF_2,dF_3)"
      ],
      "execution_count": 14,
      "outputs": []
    },
    {
      "cell_type": "markdown",
      "metadata": {
        "id": "pftl10Hv1dn4"
      },
      "source": [
        "#Normalización de los datos - La varianza explicada por cada componente es menor si los datos son normalizados."
      ]
    },
    {
      "cell_type": "code",
      "metadata": {
        "id": "7FMYIqTB019v"
      },
      "source": [
        "x = dF_f.values #returns a numpy array\n",
        "min_max_scaler = preprocessing.MinMaxScaler()\n",
        "x_scaled = min_max_scaler.fit_transform(x)\n",
        "dF_f = pd.DataFrame(x_scaled)"
      ],
      "execution_count": 15,
      "outputs": []
    },
    {
      "cell_type": "markdown",
      "metadata": {
        "id": "pyENmhjqFRMe"
      },
      "source": [
        "#Ground thrut, son los valores reales de mis datos los cuales son comparados luego de realizar fit's en metodos de clustering y reducción de imagenes"
      ]
    },
    {
      "cell_type": "code",
      "metadata": {
        "id": "ZZw-8FHREnn0"
      },
      "source": [
        "ground_truth = dF_f[[20]].values\n",
        "lookupTable, ground_truth = np.unique(ground_truth, return_inverse=True)\n",
        "X = dF_f[dF_f.columns[0:20]].values"
      ],
      "execution_count": 16,
      "outputs": []
    },
    {
      "cell_type": "code",
      "metadata": {
        "colab": {
          "base_uri": "https://localhost:8080/",
          "height": 175
        },
        "id": "8gxqqL__2P5v",
        "outputId": "890a343d-74b1-4230-f3f5-7a7d5cb69438"
      },
      "source": [
        "from sklearn.cluster import AgglomerativeClustering\n",
        "agrupamiento = AgglomerativeClustering(n_clusters=3,\n",
        "                                     distance_threshold=None,\n",
        "                                     compute_full_tree=True,\n",
        "                                     affinity='euclidean',\n",
        "                                     linkage='complete').fit(X)\n",
        "predicho = agrupamiento.labels_\n",
        "from sklearn import metrics\n",
        "# adjusted_rand_score entre -1 y 1, mayor que cero es bueno, 1 es perfecto\n",
        "print(metrics.adjusted_rand_score(ground_truth, predicho))\n",
        "# adjusted_mutual_info_score 0 y 1, 1 es perfecto\n",
        "print(metrics.adjusted_mutual_info_score(ground_truth, predicho))\n",
        "from sklearn.metrics.cluster import contingency_matrix\n",
        "cm =contingency_matrix(ground_truth, predicho, eps=None, sparse=False)\n",
        "pd.DataFrame(cm)"
      ],
      "execution_count": 18,
      "outputs": [
        {
          "output_type": "stream",
          "text": [
            "-0.0019218777770079443\n",
            "0.05564040083450314\n"
          ],
          "name": "stdout"
        },
        {
          "output_type": "execute_result",
          "data": {
            "text/html": [
              "<div>\n",
              "<style scoped>\n",
              "    .dataframe tbody tr th:only-of-type {\n",
              "        vertical-align: middle;\n",
              "    }\n",
              "\n",
              "    .dataframe tbody tr th {\n",
              "        vertical-align: top;\n",
              "    }\n",
              "\n",
              "    .dataframe thead th {\n",
              "        text-align: right;\n",
              "    }\n",
              "</style>\n",
              "<table border=\"1\" class=\"dataframe\">\n",
              "  <thead>\n",
              "    <tr style=\"text-align: right;\">\n",
              "      <th></th>\n",
              "      <th>0</th>\n",
              "      <th>1</th>\n",
              "      <th>2</th>\n",
              "    </tr>\n",
              "  </thead>\n",
              "  <tbody>\n",
              "    <tr>\n",
              "      <th>0</th>\n",
              "      <td>18</td>\n",
              "      <td>16</td>\n",
              "      <td>12</td>\n",
              "    </tr>\n",
              "    <tr>\n",
              "      <th>1</th>\n",
              "      <td>12</td>\n",
              "      <td>0</td>\n",
              "      <td>3</td>\n",
              "    </tr>\n",
              "    <tr>\n",
              "      <th>2</th>\n",
              "      <td>9</td>\n",
              "      <td>7</td>\n",
              "      <td>8</td>\n",
              "    </tr>\n",
              "  </tbody>\n",
              "</table>\n",
              "</div>"
            ],
            "text/plain": [
              "    0   1   2\n",
              "0  18  16  12\n",
              "1  12   0   3\n",
              "2   9   7   8"
            ]
          },
          "metadata": {
            "tags": []
          },
          "execution_count": 18
        }
      ]
    },
    {
      "cell_type": "code",
      "metadata": {
        "colab": {
          "base_uri": "https://localhost:8080/",
          "height": 175
        },
        "id": "EvMXShdI4GBy",
        "outputId": "63eb0636-3724-43c6-df42-906b7ec8d250"
      },
      "source": [
        "agrupamiento = KMeans(n_clusters=3).fit(X)\n",
        "predicho = agrupamiento.labels_\n",
        "from sklearn import metrics\n",
        "# adjusted_rand_score entre -1 y 1, mayor que cero es bueno, 1 es perfecto\n",
        "print(metrics.adjusted_rand_score(ground_truth, predicho))\n",
        "# adjusted_mutual_info_score 0 y 1, 1 es perfecto\n",
        "print(metrics.adjusted_mutual_info_score(ground_truth, predicho))\n",
        "from sklearn.metrics.cluster import contingency_matrix\n",
        "cm =contingency_matrix(ground_truth, predicho, eps=None, sparse=False)\n",
        "pd.DataFrame(cm)"
      ],
      "execution_count": 19,
      "outputs": [
        {
          "output_type": "stream",
          "text": [
            "-0.0019218777770079443\n",
            "0.05564040083450314\n"
          ],
          "name": "stdout"
        },
        {
          "output_type": "execute_result",
          "data": {
            "text/html": [
              "<div>\n",
              "<style scoped>\n",
              "    .dataframe tbody tr th:only-of-type {\n",
              "        vertical-align: middle;\n",
              "    }\n",
              "\n",
              "    .dataframe tbody tr th {\n",
              "        vertical-align: top;\n",
              "    }\n",
              "\n",
              "    .dataframe thead th {\n",
              "        text-align: right;\n",
              "    }\n",
              "</style>\n",
              "<table border=\"1\" class=\"dataframe\">\n",
              "  <thead>\n",
              "    <tr style=\"text-align: right;\">\n",
              "      <th></th>\n",
              "      <th>0</th>\n",
              "      <th>1</th>\n",
              "      <th>2</th>\n",
              "    </tr>\n",
              "  </thead>\n",
              "  <tbody>\n",
              "    <tr>\n",
              "      <th>0</th>\n",
              "      <td>18</td>\n",
              "      <td>16</td>\n",
              "      <td>12</td>\n",
              "    </tr>\n",
              "    <tr>\n",
              "      <th>1</th>\n",
              "      <td>12</td>\n",
              "      <td>0</td>\n",
              "      <td>3</td>\n",
              "    </tr>\n",
              "    <tr>\n",
              "      <th>2</th>\n",
              "      <td>9</td>\n",
              "      <td>7</td>\n",
              "      <td>8</td>\n",
              "    </tr>\n",
              "  </tbody>\n",
              "</table>\n",
              "</div>"
            ],
            "text/plain": [
              "    0   1   2\n",
              "0  18  16  12\n",
              "1  12   0   3\n",
              "2   9   7   8"
            ]
          },
          "metadata": {
            "tags": []
          },
          "execution_count": 19
        }
      ]
    },
    {
      "cell_type": "code",
      "metadata": {
        "colab": {
          "base_uri": "https://localhost:8080/",
          "height": 175
        },
        "id": "uPc-es8S6XrP",
        "outputId": "a8f23883-c75c-44cc-cf41-ff651131bc1a"
      },
      "source": [
        "from sklearn.cluster import AffinityPropagation\n",
        "agrupamiento = AffinityPropagation(preference=-5.0, damping=0.9,max_iter=10000).fit(X)\n",
        "predicho = agrupamiento.labels_\n",
        "from sklearn import metrics\n",
        "# adjusted_rand_score entre -1 y 1, mayor que cero es bueno, 1 es perfecto\n",
        "print(metrics.adjusted_rand_score(ground_truth, predicho))\n",
        "# adjusted_mutual_info_score 0 y 1, 1 es perfecto\n",
        "print(metrics.adjusted_mutual_info_score(ground_truth, predicho))\n",
        "from sklearn.metrics.cluster import contingency_matrix\n",
        "cm =contingency_matrix(ground_truth, predicho, eps=None, sparse=False)\n",
        "pd.DataFrame(cm)\n",
        "\n"
      ],
      "execution_count": 20,
      "outputs": [
        {
          "output_type": "stream",
          "text": [
            "0.3564383782607302\n",
            "0.5944809316346916\n"
          ],
          "name": "stdout"
        },
        {
          "output_type": "execute_result",
          "data": {
            "text/html": [
              "<div>\n",
              "<style scoped>\n",
              "    .dataframe tbody tr th:only-of-type {\n",
              "        vertical-align: middle;\n",
              "    }\n",
              "\n",
              "    .dataframe tbody tr th {\n",
              "        vertical-align: top;\n",
              "    }\n",
              "\n",
              "    .dataframe thead th {\n",
              "        text-align: right;\n",
              "    }\n",
              "</style>\n",
              "<table border=\"1\" class=\"dataframe\">\n",
              "  <thead>\n",
              "    <tr style=\"text-align: right;\">\n",
              "      <th></th>\n",
              "      <th>0</th>\n",
              "      <th>1</th>\n",
              "      <th>2</th>\n",
              "      <th>3</th>\n",
              "      <th>4</th>\n",
              "      <th>5</th>\n",
              "      <th>6</th>\n",
              "      <th>7</th>\n",
              "    </tr>\n",
              "  </thead>\n",
              "  <tbody>\n",
              "    <tr>\n",
              "      <th>0</th>\n",
              "      <td>12</td>\n",
              "      <td>18</td>\n",
              "      <td>16</td>\n",
              "      <td>0</td>\n",
              "      <td>0</td>\n",
              "      <td>0</td>\n",
              "      <td>0</td>\n",
              "      <td>0</td>\n",
              "    </tr>\n",
              "    <tr>\n",
              "      <th>1</th>\n",
              "      <td>0</td>\n",
              "      <td>2</td>\n",
              "      <td>0</td>\n",
              "      <td>10</td>\n",
              "      <td>3</td>\n",
              "      <td>0</td>\n",
              "      <td>0</td>\n",
              "      <td>0</td>\n",
              "    </tr>\n",
              "    <tr>\n",
              "      <th>2</th>\n",
              "      <td>0</td>\n",
              "      <td>0</td>\n",
              "      <td>0</td>\n",
              "      <td>0</td>\n",
              "      <td>0</td>\n",
              "      <td>8</td>\n",
              "      <td>7</td>\n",
              "      <td>9</td>\n",
              "    </tr>\n",
              "  </tbody>\n",
              "</table>\n",
              "</div>"
            ],
            "text/plain": [
              "    0   1   2   3  4  5  6  7\n",
              "0  12  18  16   0  0  0  0  0\n",
              "1   0   2   0  10  3  0  0  0\n",
              "2   0   0   0   0  0  8  7  9"
            ]
          },
          "metadata": {
            "tags": []
          },
          "execution_count": 20
        }
      ]
    },
    {
      "cell_type": "code",
      "metadata": {
        "colab": {
          "base_uri": "https://localhost:8080/",
          "height": 175
        },
        "id": "sbZTA1Xh6snY",
        "outputId": "ac8cdcf7-a0f1-4e6d-89ab-96d8dc31b685"
      },
      "source": [
        "from sklearn.cluster import DBSCAN\n",
        "agrupamiento = DBSCAN(eps=0.3,min_samples=50,metric=\"euclidean\").fit(X)\n",
        "predicho = agrupamiento.labels_\n",
        "from sklearn import metrics\n",
        "# adjusted_rand_score entre -1 y 1, mayor que cero es bueno, 1 es perfecto\n",
        "print(metrics.adjusted_rand_score(ground_truth, predicho))\n",
        "# adjusted_mutual_info_score 0 y 1, 1 es perfecto\n",
        "print(metrics.adjusted_mutual_info_score(ground_truth, predicho))\n",
        "from sklearn.metrics.cluster import contingency_matrix\n",
        "cm =contingency_matrix(ground_truth, predicho, eps=None, sparse=False)\n",
        "pd.DataFrame(cm)"
      ],
      "execution_count": 21,
      "outputs": [
        {
          "output_type": "stream",
          "text": [
            "0.0\n",
            "6.494925741535911e-16\n"
          ],
          "name": "stdout"
        },
        {
          "output_type": "execute_result",
          "data": {
            "text/html": [
              "<div>\n",
              "<style scoped>\n",
              "    .dataframe tbody tr th:only-of-type {\n",
              "        vertical-align: middle;\n",
              "    }\n",
              "\n",
              "    .dataframe tbody tr th {\n",
              "        vertical-align: top;\n",
              "    }\n",
              "\n",
              "    .dataframe thead th {\n",
              "        text-align: right;\n",
              "    }\n",
              "</style>\n",
              "<table border=\"1\" class=\"dataframe\">\n",
              "  <thead>\n",
              "    <tr style=\"text-align: right;\">\n",
              "      <th></th>\n",
              "      <th>0</th>\n",
              "    </tr>\n",
              "  </thead>\n",
              "  <tbody>\n",
              "    <tr>\n",
              "      <th>0</th>\n",
              "      <td>46</td>\n",
              "    </tr>\n",
              "    <tr>\n",
              "      <th>1</th>\n",
              "      <td>15</td>\n",
              "    </tr>\n",
              "    <tr>\n",
              "      <th>2</th>\n",
              "      <td>24</td>\n",
              "    </tr>\n",
              "  </tbody>\n",
              "</table>\n",
              "</div>"
            ],
            "text/plain": [
              "    0\n",
              "0  46\n",
              "1  15\n",
              "2  24"
            ]
          },
          "metadata": {
            "tags": []
          },
          "execution_count": 21
        }
      ]
    },
    {
      "cell_type": "markdown",
      "metadata": {
        "id": "-MTfS4Lm-dG1"
      },
      "source": [
        "#Ground truth y PCA. Se toman los valores de cada categoría en ground_truth para luego retomarlos cuando PCA arroje los datos transformados y ver si existen categorias que no se superponen.\n",
        "\n",
        "#X son todos los valores del dataframe excluyendo su última columna que corresponde a la emoción que pertenece cada imágen"
      ]
    },
    {
      "cell_type": "markdown",
      "metadata": {
        "id": "oK8odP1kZ8t-"
      },
      "source": [
        "#Se define PCA con n_components=2 para visualizar en 2D. Código obtenido del curso IA dictado por el profesor Eduardo Zurek en el periodo 2021-01."
      ]
    },
    {
      "cell_type": "code",
      "metadata": {
        "colab": {
          "base_uri": "https://localhost:8080/",
          "height": 659
        },
        "id": "uDLsN9ZM85t5",
        "outputId": "ecc469e3-ffed-419f-b36e-a9257685a99e"
      },
      "source": [
        "pca = PCA(n_components=2,whiten=False).fit(X)\n",
        "print(pca.explained_variance_ratio_)\n",
        "print(pca.singular_values_)\n",
        "transformados = pca.fit_transform(X)\n",
        "print(transformados.shape)\n",
        "\n",
        "x = transformados[:,0]\n",
        "y = transformados[:,1]\n",
        "c = ground_truth\n",
        "fig, ax = plt.subplots(figsize=[10,10])\n",
        "\n",
        "scatter = ax.scatter(x, y, c=c,alpha=1.0)\n",
        "\n",
        "# produce a legend with the unique colors from the scatter\n",
        "legend1 = ax.legend(*scatter.legend_elements(),\n",
        "                    loc=\"upper right\", title=\"Classes\")\n",
        "ax.add_artist(legend1)\n",
        "plt.title(\"PCA\") #title\n",
        "plt.show()"
      ],
      "execution_count": 31,
      "outputs": [
        {
          "output_type": "stream",
          "text": [
            "[0.4451507 0.2044214]\n",
            "[8.98484542 6.08863946]\n",
            "(85, 2)\n"
          ],
          "name": "stdout"
        },
        {
          "output_type": "display_data",
          "data": {
            "image/png": "[encoded data removed]",
            "text/plain": [
              "<Figure size 720x720 with 1 Axes>"
            ]
          },
          "metadata": {
            "tags": [],
            "needs_background": "light"
          }
        }
      ]
    },
    {
      "cell_type": "markdown",
      "metadata": {
        "id": "pK9O97lNFMUG"
      },
      "source": [
        "#MDS"
      ]
    },
    {
      "cell_type": "code",
      "metadata": {
        "colab": {
          "base_uri": "https://localhost:8080/",
          "height": 607
        },
        "id": "30kcmCyNcvxw",
        "outputId": "d7907c67-6184-4587-bbc1-e808d57acda5"
      },
      "source": [
        "embedding = MDS(n_components=2)\n",
        "transformados = embedding.fit_transform(X)\n",
        "\n",
        "x = transformados[:,0]\n",
        "y = transformados[:,1]\n",
        "c = ground_truth\n",
        "fig, ax = plt.subplots(figsize=[10,10])\n",
        "\n",
        "scatter = ax.scatter(x, y, c=c,alpha=1.0)\n",
        "\n",
        "# produce a legend with the unique colors from the scatter\n",
        "legend1 = ax.legend(*scatter.legend_elements(),\n",
        "                    loc=\"upper right\", title=\"Classes\")\n",
        "ax.add_artist(legend1)\n",
        "#print(pca.explained_variance_ratio_)\n",
        "#print(pca.singular_values_)\n",
        "plt.title(\"MDS\") #title\n",
        "plt.show()"
      ],
      "execution_count": 33,
      "outputs": [
        {
          "output_type": "display_data",
          "data": {
            "image/png": "[encoded data removed]",
            "text/plain": [
              "<Figure size 720x720 with 1 Axes>"
            ]
          },
          "metadata": {
            "tags": [],
            "needs_background": "light"
          }
        }
      ]
    },
    {
      "cell_type": "markdown",
      "metadata": {
        "id": "79C-dxVPmOo7"
      },
      "source": [
        "PC1*a+PC2*b"
      ]
    },
    {
      "cell_type": "markdown",
      "metadata": {
        "id": "xzO6_H2XVWcS"
      },
      "source": [
        "# La clase 0 corresponde a la clase Felicidad, la clase 1 a la clase Furia y la clase 2 a la clase Sorpresa.\n",
        "\n",
        "#Se osbserva una separación de las categorías (emociones) y los datos no están superpuesto por lo cual las componenetes 1 y 2 son suficientes. Al estar los datos superpuestos es como si la funcion lineal el terminos de PC1 y PC2 (PC_1 * a + PC_2 * B)  dieran igual para ambas categorias (triste y sorprendido)"
      ]
    },
    {
      "cell_type": "markdown",
      "metadata": {
        "id": "O_060-rN05k_"
      },
      "source": [
        "#KNN - Aprendizaje supervisado, aplicación. Predicción de emociones (se obtienen mejores resultados cuando solo se comparan dos emociones). La salida ejemplo de este bloque de código es:\n",
        "                   precision    recall  f1-score   support\n",
        "\n",
        "           1       0.77      0.93      0.85       275\n",
        "           2       0.00      0.00      0.00         7\n",
        "           3       0.78      0.51      0.61       144\n",
        "\n",
        "#Siendo 1:= Felicidad, 2:=Furia y 3:=Sorpresa. Para este caso solo testeamos con 2 emociones, solo nos quedamos con un dato de la emoción 2 para evitar errores de lógica en nuestro código, por esta misma razón la precisión es del 0.0%"
      ]
    },
    {
      "cell_type": "code",
      "metadata": {
        "id": "P8-0gMXnfhcm",
        "colab": {
          "base_uri": "https://localhost:8080/"
        },
        "outputId": "7c8e748f-e8c6-4d03-afa7-5fca833259a1"
      },
      "source": [
        "np.random.seed(0)\n",
        "\n",
        "dF_=dF_f.sample(frac=1)\n",
        "\n",
        "x=np.array(dF_[dF_.columns[0:20]])\n",
        "y=np.array(dF_[dF_.columns[20:21]])\n",
        "x_train, x_test, y_train, y_test = train_test_split(\n",
        "    x, y, test_size=0.30)\n",
        "\n",
        "neigh = KNeighborsClassifier(n_neighbors=25,weights=\"distance\")\n",
        "neigh.fit(x_train, y_train)\n",
        "\n",
        "y_pred=neigh.predict(x_test)\n",
        "print(classification_report(y_test,y_pred))\n",
        "print(confusion_matrix(y_test,y_pred))"
      ],
      "execution_count": null,
      "outputs": [
        {
          "output_type": "stream",
          "text": [
            "              precision    recall  f1-score   support\n",
            "\n",
            "           1       1.00      1.00      1.00        13\n",
            "           2       1.00      1.00      1.00         6\n",
            "           3       1.00      1.00      1.00         7\n",
            "\n",
            "    accuracy                           1.00        26\n",
            "   macro avg       1.00      1.00      1.00        26\n",
            "weighted avg       1.00      1.00      1.00        26\n",
            "\n",
            "[[13  0  0]\n",
            " [ 0  6  0]\n",
            " [ 0  0  7]]\n"
          ],
          "name": "stdout"
        },
        {
          "output_type": "stream",
          "text": [
            "/usr/local/lib/python3.7/dist-packages/ipykernel_launcher.py:11: DataConversionWarning: A column-vector y was passed when a 1d array was expected. Please change the shape of y to (n_samples, ), for example using ravel().\n",
            "  # This is added back by InteractiveShellApp.init_path()\n"
          ],
          "name": "stderr"
        }
      ]
    }
  ]
}